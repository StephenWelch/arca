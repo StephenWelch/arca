{
 "cells": [
  {
   "cell_type": "code",
   "execution_count": 4,
   "id": "0963a8f7",
   "metadata": {},
   "outputs": [
    {
     "name": "stdout",
     "output_type": "stream",
     "text": [
      "trunk_freejoint: [0.]\n",
      "l_hip_roll_passive: [0.]\n",
      "l_hip_pitch_passive: [0.]\n",
      "l_knee_passive: [0.]\n",
      "l_ankle_passive: [0.]\n",
      "l_knee: [0.]\n",
      "l_knee_passive_x: [0.]\n",
      "l_knee_passive_y: [0.]\n",
      "l_knee_passive_z: [0.]\n",
      "r_hip_roll_passive: [0.]\n",
      "r_hip_pitch_passive: [0.]\n",
      "r_knee_passive: [0.]\n",
      "r_ankle_passive: [0.]\n",
      "r_knee: [0.]\n",
      "r_knee_passive_x: [0.]\n",
      "r_knee_passive_y: [0.]\n",
      "r_knee_passive_z: [0.]\n",
      "l_hip_inner: [0.]\n",
      "l_hip_inner_passive_x: [0.]\n",
      "l_hip_inner_passive_y: [0.]\n",
      "l_hip_inner_passive_z: [0.]\n",
      "l_hip_outer: [0.]\n",
      "l_hip_outer_passive_x: [0.]\n",
      "l_hip_outer_passive_y: [0.]\n",
      "l_hip_outer_passive_z: [0.]\n",
      "r_hip_inner: [0.]\n",
      "r_hip_inner_passive_x: [0.]\n",
      "r_hip_inner_passive_y: [0.]\n",
      "r_hip_inner_passive_z: [0.]\n",
      "r_hip_outer: [0.]\n",
      "r_hip_outer_passive_x: [0.]\n",
      "r_hip_outer_passive_y: [0.]\n",
      "r_hip_outer_passive_z: [0.]\n"
     ]
    }
   ],
   "source": [
    "import mujoco\n",
    "import mujoco.viewer\n",
    "\n",
    "model = mujoco.MjModel.from_xml_path(\"models/full/mjcf/scene.xml\")\n",
    "data = mujoco.MjData(model)\n",
    "\n",
    "with mujoco.viewer.launch_passive(model, data) as viewer:\n",
    "    home = model.keyframe(\"home\")\n",
    "    for i in range(model.njnt):\n",
    "        joint = model.joint(i)\n",
    "        print(f\"{joint.name}: {home.qpos[joint.qposadr]}\")\n",
    "        "
   ]
  }
 ],
 "metadata": {
  "kernelspec": {
   "display_name": ".venv",
   "language": "python",
   "name": "python3"
  },
  "language_info": {
   "codemirror_mode": {
    "name": "ipython",
    "version": 3
   },
   "file_extension": ".py",
   "mimetype": "text/x-python",
   "name": "python",
   "nbconvert_exporter": "python",
   "pygments_lexer": "ipython3",
   "version": "3.11.11"
  }
 },
 "nbformat": 4,
 "nbformat_minor": 5
}
